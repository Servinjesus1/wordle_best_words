{
 "cells": [
  {
   "cell_type": "markdown",
   "metadata": {},
   "source": [
    "# Wordle best words\n",
    "\n",
    "*Forked from [nehadyounis/wordle_best_words](https://github.com/nehadyounis/wordle_best_words), updated with weights by location*\n",
    "\n",
    "*By Spencer Fretwell*\n",
    "\n",
    "*Date: 03-19-2022*"
   ]
  },
  {
   "cell_type": "code",
   "execution_count": 201,
   "metadata": {},
   "outputs": [],
   "source": [
    "import numpy as np\n",
    "import pandas as pd\n",
    "import warnings\n",
    "warnings.filterwarnings(\"ignore\")\n",
    "import matplotlib as plt\n",
    "import matplotlib.pyplot as plt\n",
    "import copy"
   ]
  },
  {
   "cell_type": "code",
   "execution_count": 2,
   "metadata": {},
   "outputs": [],
   "source": [
    "with open('words_alpha.txt') as f:\n",
    "    lines = f.readlines()"
   ]
  },
  {
   "cell_type": "code",
   "execution_count": 3,
   "metadata": {},
   "outputs": [
    {
     "data": {
      "text/plain": [
       "370103"
      ]
     },
     "execution_count": 3,
     "metadata": {},
     "output_type": "execute_result"
    }
   ],
   "source": [
    "len(lines)"
   ]
  },
  {
   "cell_type": "code",
   "execution_count": 4,
   "metadata": {},
   "outputs": [
    {
     "data": {
      "text/plain": [
       "15918"
      ]
     },
     "execution_count": 4,
     "metadata": {},
     "output_type": "execute_result"
    }
   ],
   "source": [
    "words5 = []\n",
    "for word in lines:\n",
    "    word = word.replace(\"\\n\", \"\")\n",
    "    w = word.replace(\"\\n\", \"\")\n",
    "    if len(w) == 5:\n",
    "        words5.append(w)\n",
    "len(words5)"
   ]
  },
  {
   "cell_type": "code",
   "execution_count": 202,
   "metadata": {},
   "outputs": [
    {
     "data": {
      "text/plain": [
       "10173"
      ]
     },
     "execution_count": 202,
     "metadata": {},
     "output_type": "execute_result"
    }
   ],
   "source": [
    "wordsWithoutRepeated = []\n",
    "for word in words5:\n",
    "    w = \"\"\n",
    "    for letter in word:\n",
    "        if w.find(letter) == -1:\n",
    "            w += letter\n",
    "    if (len(w) == 5):\n",
    "        wordsWithoutRepeated.append(w)\n",
    "len(wordsWithoutRepeated)"
   ]
  },
  {
   "cell_type": "code",
   "execution_count": 6,
   "metadata": {},
   "outputs": [
    {
     "data": {
      "text/plain": [
       "<BarContainer object of 26 artists>"
      ]
     },
     "execution_count": 6,
     "metadata": {},
     "output_type": "execute_result"
    },
    {
     "data": {
      "image/png": "[encoded data removed]",
      "text/plain": [
       "<Figure size 432x288 with 1 Axes>"
      ]
     },
     "metadata": {
      "needs_background": "light"
     },
     "output_type": "display_data"
    }
   ],
   "source": [
    "weights = {}\n",
    "for i in range(26):\n",
    "    weights[chr(i+97)] = 0\n",
    "\n",
    "for word in wordsWithoutRepeated:\n",
    "    for letter in word:\n",
    "        if (ord(letter) - 97) > -1:\n",
    "            weights[letter] +=1\n",
    "plt.bar (weights.keys(), weights.values())"
   ]
  },
  {
   "cell_type": "code",
   "execution_count": 7,
   "metadata": {},
   "outputs": [
    {
     "data": {
      "text/plain": [
       "'aesir'"
      ]
     },
     "execution_count": 7,
     "metadata": {},
     "output_type": "execute_result"
    }
   ],
   "source": [
    "scores = {}\n",
    "for word in wordsWithoutRepeated:\n",
    "    for letter in word:\n",
    "        scores[word] = scores.get(word,0) + weights.get(letter,0)\n",
    "max_key = max(scores, key=scores.get)\n",
    "max_key"
   ]
  },
  {
   "cell_type": "code",
   "execution_count": 8,
   "metadata": {},
   "outputs": [
    {
     "data": {
      "text/plain": [
       "['aesir', 'clout', 'nymph', 'badge', 'flowk']"
      ]
     },
     "execution_count": 8,
     "metadata": {},
     "output_type": "execute_result"
    }
   ],
   "source": [
    "result = []\n",
    "weights2 = weights.copy()\n",
    "for i in range(5):\n",
    "    scores = {}\n",
    "    for word in wordsWithoutRepeated:\n",
    "        for letter in word:\n",
    "            scores[word] = scores.get(word,0) + weights2.get(letter,0)\n",
    "    max_key = max(scores, key=scores.get)\n",
    "    result.append(max_key)\n",
    "    for letter in max_key:\n",
    "        weights2[letter] = 0\n",
    "result"
   ]
  },
  {
   "cell_type": "markdown",
   "metadata": {},
   "source": [
    "> So begin my changes  \n",
    "> -- Spencer Fretwell"
   ]
  },
  {
   "cell_type": "code",
   "execution_count": 206,
   "metadata": {},
   "outputs": [
    {
     "data": {
      "text/plain": [
       "10169"
      ]
     },
     "execution_count": 206,
     "metadata": {},
     "output_type": "execute_result"
    }
   ],
   "source": [
    "forbidden = ['bekah', 'frike'] # Not in squabble.me dictionary\n",
    "\n",
    "final_words = []\n",
    "for word in wordsWithoutRepeated:\n",
    "    if word not in forbidden:\n",
    "        final_words.append(word)\n",
    "        \n",
    "wordsWithoutRepeated = final_words\n",
    "len(wordsWithoutRepeated)"
   ]
  },
  {
   "cell_type": "code",
   "execution_count": 208,
   "metadata": {},
   "outputs": [
    {
     "data": {
      "image/png": "[encoded data removed]",
      "text/plain": [
       "<Figure size 432x288 with 1 Axes>"
      ]
     },
     "metadata": {
      "needs_background": "light"
     },
     "output_type": "display_data"
    },
    {
     "data": {
      "image/png": "[encoded data removed]",
      "text/plain": [
       "<Figure size 432x288 with 1 Axes>"
      ]
     },
     "metadata": {
      "needs_background": "light"
     },
     "output_type": "display_data"
    }
   ],
   "source": [
    "weights = {}\n",
    "for i in range(26):\n",
    "    weights[chr(i+97)] = 0\n",
    "\n",
    "for word in wordsWithoutRepeated:\n",
    "    for letter in word:\n",
    "        if (ord(letter) - 97) > -1:\n",
    "            weights[letter] +=1\n",
    "            \n",
    "weights_by_loc = weights.copy()\n",
    "for i in weights:\n",
    "    weights_by_loc[i] = [0]*5\n",
    "            \n",
    "\n",
    "for word in wordsWithoutRepeated:\n",
    "    for i, letter in enumerate(word):\n",
    "        if (ord(letter) - 97) > -1:\n",
    "            weights_by_loc[letter][i] += 1\n",
    "\n",
    "plt.bar(weights.keys(), weights.values())\n",
    "plt.show()\n",
    "\n",
    "btm = [0]*len(weights_by_loc)\n",
    "for i in range(5):\n",
    "    tp = [val[i] for key, val in weights_by_loc.items()]\n",
    "    if i>0:\n",
    "        btm = [val[i-1] for key, val in weights_by_loc.items()]\n",
    "    plt.bar(weights_by_loc.keys(), tp, bottom=btm)"
   ]
  },
  {
   "cell_type": "code",
   "execution_count": 209,
   "metadata": {},
   "outputs": [
    {
     "data": {
      "text/plain": [
       "[('tares', 26804),\n",
       " ('colin', 18411),\n",
       " ('dumpy', 12145),\n",
       " ('bigha', 7018),\n",
       " ('flake', 5555)]"
      ]
     },
     "execution_count": 209,
     "metadata": {},
     "output_type": "execute_result"
    }
   ],
   "source": [
    "result = []\n",
    "weight_by_letter = weights.copy()\n",
    "weight_by_location = copy.deepcopy(weights_by_loc)\n",
    "for i in range(5):\n",
    "    wordsWithoutRepeatedDec = {}\n",
    "    for word in wordsWithoutRepeated:\n",
    "        for j, letter in enumerate(word):\n",
    "            wordsWithoutRepeatedDec[word] = wordsWithoutRepeatedDec.get(word,0) + weight_by_letter[letter] + weight_by_location[letter][j]\n",
    "    max_key = max(wordsWithoutRepeatedDec, key=wordsWithoutRepeatedDec.get)\n",
    "    for i, letter in enumerate(max_key):\n",
    "        weight_by_letter[letter] = 0\n",
    "        weight_by_location[letter][i] = 0\n",
    "    result.append((max_key, wordsWithoutRepeatedDec[max_key]))\n",
    "    \n",
    "result"
   ]
  },
  {
   "cell_type": "code",
   "execution_count": 210,
   "metadata": {},
   "outputs": [
    {
     "data": {
      "text/plain": [
       "{1: {'slice': 20793,\n",
       "  'morph': 15098,\n",
       "  'tawny': 17034,\n",
       "  'afoul': 5361,\n",
       "  'total ---': 58286},\n",
       " 2: {'query': 15343,\n",
       "  'block': 12824,\n",
       "  'pawns': 19150,\n",
       "  'fight': 12685,\n",
       "  'total ---': 60002},\n",
       " 3: {'fakes': 21564,\n",
       "  'glory': 15690,\n",
       "  'bundt': 14501,\n",
       "  'chimp': 12716,\n",
       "  'total ---': 64471},\n",
       " 5: {'tares': 26804,\n",
       "  'colin': 18411,\n",
       "  'dumpy': 12145,\n",
       "  'bhang': 7168,\n",
       "  'total ---': 64528}}"
      ]
     },
     "execution_count": 210,
     "metadata": {},
     "output_type": "execute_result"
    }
   ],
   "source": [
    "test = {\n",
    "    1: ['slice', 'morph', 'tawny', 'afoul'],\n",
    "    2: ['query', 'block', 'pawns', 'fight'],\n",
    "    3: ['fakes', 'glory', 'bundt', 'chimp'],\n",
    "    5: ['tares', 'colin', 'dumpy', 'bhang']\n",
    "}\n",
    "\n",
    "def tester(test_dict):\n",
    "    results = test_dict\n",
    "    for i in test_dict:\n",
    "        result = {}\n",
    "        weight_by_letter = weights.copy()\n",
    "        weight_by_location = copy.deepcopy(weights_by_loc)\n",
    "        for word in test[i]:\n",
    "            for j, letter in enumerate(word):\n",
    "                result[word] = result.get(word,0) + weight_by_letter[letter] + weight_by_location[letter][j]\n",
    "                weight_by_letter[letter] = 0\n",
    "                weight_by_location[letter][j] = 0\n",
    "        result['total ---'] = sum(result.values())\n",
    "        results[i] = result\n",
    "    return results\n",
    "\n",
    "\n",
    "tester(test)"
   ]
  },
  {
   "cell_type": "code",
   "execution_count": null,
   "metadata": {},
   "outputs": [],
   "source": []
  }
 ],
 "metadata": {
  "kernelspec": {
   "display_name": "Python 3 (ipykernel)",
   "language": "python",
   "name": "python3"
  },
  "language_info": {
   "codemirror_mode": {
    "name": "ipython",
    "version": 3
   },
   "file_extension": ".py",
   "mimetype": "text/x-python",
   "name": "python",
   "nbconvert_exporter": "python",
   "pygments_lexer": "ipython3",
   "version": "3.10.0"
  }
 },
 "nbformat": 4,
 "nbformat_minor": 4
}
